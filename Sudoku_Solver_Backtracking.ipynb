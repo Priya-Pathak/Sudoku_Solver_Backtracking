{
 "cells": [
  {
   "cell_type": "code",
   "execution_count": 22,
   "metadata": {},
   "outputs": [],
   "source": [
    "import numpy\n",
    "def printSolution(board):\n",
    "    print()\n",
    "    print()\n",
    "    for i in range(9):\n",
    "        for j in range(9):\n",
    "            if j==2 or j==5:\n",
    "                print(board[i][j], end=\"|\")\n",
    "            else:\n",
    "                print(board[i][j], end=\" \")\n",
    "        if(i==2 or i==5):\n",
    "            print()\n",
    "            print(\"__________________\")\n",
    "            print()\n",
    "        else:\n",
    "            print()\n",
    "\n",
    "def isSafe(board , row, col, e):\n",
    "    x=(int)(row/3)\n",
    "    y=(int)(col/3)\n",
    "    for i in range(9):\n",
    "        if board[i][col]==e:\n",
    "            return False\n",
    "        if board[row][i]==e:\n",
    "            return False\n",
    "    for k in range(x*3,x*3+3):\n",
    "        for j in range(y*3,y*3+3):\n",
    "            if board[k][j]==e:\n",
    "                return False\n",
    "    return True\n",
    "\n",
    "def solveSudoku(board,i,j):\n",
    "    \n",
    "    if(numpy.sum(numpy.sum(board))==405):\n",
    "        printSolution(board)\n",
    "        return True\n",
    "    for row in range(9):\n",
    "        for col in range(9):\n",
    "            if(board[row][col]==0):\n",
    "                print(\"blank position\",row,col)\n",
    "                for e in range(1,10):\n",
    "                    #print(e)\n",
    "                    if isSafe(board,row,col,e):\n",
    "                        board[row][col]=e\n",
    "                        if(solveSudoku(board, row,col)==True):\n",
    "                            return True\n",
    "                    else:\n",
    "                        board[row][col]=0\n",
    "            \n",
    "    return False\n",
    "#board=[[3,4,8,6,5,9,1,2,0],\n",
    " #     [7,5,9,2,0,4,3,6,8],\n",
    " #     [0,1,6,7,3,8,5,4,9],\n",
    " #     [5,2,7,0,4,1,8,3,6],\n",
    " #     [1,6,3,5,8,7,2,9,4],\n",
    " #     [8,9,4,3,6,2,7,1,5],\n",
    " #     [9,7,1,8,2,6,4,5,3],\n",
    " #     [6,3,0,4,7,5,9,8,1],\n",
    " #     [4,8,5,1,9,3,6,7,2]]\n",
    "\n",
    "board=[[3,4,8,6,5,9,1,2,0],\n",
    "      [7,5,9,2,0,4,3,6,8],\n",
    "      [0,1,6,7,3,8,5,0,9],\n",
    "      [5,2,7,0,4,1,8,3,6],\n",
    "      [1,6,3,5,8,7,0,9,4],\n",
    "      [8,9,4,3,6,2,7,1,5],\n",
    "      [9,0,1,8,2,6,4,5,3],\n",
    "      [6,3,0,4,7,5,9,8,1],\n",
    "      [4,8,5,1,9,3,6,7,2]]"
   ]
  },
  {
   "cell_type": "code",
   "execution_count": 23,
   "metadata": {},
   "outputs": [
    {
     "name": "stdout",
     "output_type": "stream",
     "text": [
      "blank position 0 8\n",
      "blank position 1 4\n",
      "blank position 2 0\n",
      "blank position 2 7\n",
      "blank position 3 3\n",
      "blank position 4 6\n",
      "blank position 6 1\n",
      "blank position 7 2\n",
      "\n",
      "\n",
      "3 4 8|6 5 9|1 2 7 \n",
      "7 5 9|2 1 4|3 6 8 \n",
      "2 1 6|7 3 8|5 4 9 \n",
      "__________________\n",
      "\n",
      "5 2 7|9 4 1|8 3 6 \n",
      "1 6 3|5 8 7|2 9 4 \n",
      "8 9 4|3 6 2|7 1 5 \n",
      "__________________\n",
      "\n",
      "9 7 1|8 2 6|4 5 3 \n",
      "6 3 2|4 7 5|9 8 1 \n",
      "4 8 5|1 9 3|6 7 2 \n"
     ]
    },
    {
     "data": {
      "text/plain": [
       "True"
      ]
     },
     "execution_count": 23,
     "metadata": {},
     "output_type": "execute_result"
    }
   ],
   "source": [
    "solveSudoku(board,0,0)"
   ]
  },
  {
   "cell_type": "code",
   "execution_count": null,
   "metadata": {},
   "outputs": [],
   "source": []
  },
  {
   "cell_type": "code",
   "execution_count": null,
   "metadata": {},
   "outputs": [],
   "source": []
  },
  {
   "cell_type": "code",
   "execution_count": null,
   "metadata": {},
   "outputs": [],
   "source": []
  }
 ],
 "metadata": {
  "kernelspec": {
   "display_name": "Python 3",
   "language": "python",
   "name": "python3"
  },
  "language_info": {
   "codemirror_mode": {
    "name": "ipython",
    "version": 3
   },
   "file_extension": ".py",
   "mimetype": "text/x-python",
   "name": "python",
   "nbconvert_exporter": "python",
   "pygments_lexer": "ipython3",
   "version": "3.7.1"
  }
 },
 "nbformat": 4,
 "nbformat_minor": 2
}
